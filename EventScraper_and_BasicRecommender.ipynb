{
 "cells": [
  {
   "cell_type": "code",
   "execution_count": 1,
   "metadata": {},
   "outputs": [],
   "source": [
    "from bs4 import BeautifulSoup\n",
    "import requests\n",
    "import pandas as pd"
   ]
  },
  {
   "cell_type": "code",
   "execution_count": 2,
   "metadata": {},
   "outputs": [],
   "source": [
    "#Scrape RSS feed for local Huntsville events\n",
    "url = 'https://www.huntsville.org/event/rss/'\n",
    "headers = {'User-Agent': 'Mozilla/5.0 (Windows NT 10.0) AppleWebKit/537.36 (KHTML, like Gecko) Chrome/91.0.4472.106 Safari/537.36'}\n",
    "page = requests.get(url, headers=headers)\n",
    "soup = BeautifulSoup(page.content, 'html.parser')"
   ]
  },
  {
   "cell_type": "code",
   "execution_count": 4,
   "metadata": {},
   "outputs": [
    {
     "name": "stdout",
     "output_type": "stream",
     "text": [
      "Event Title: Ballpark Tours \n",
      " Event Category:  [<category><![CDATA[ Family Friendly ]]></category>, <category><![CDATA[ Outdoors ]]></category>, <category><![CDATA[ Sports ]]></category>, <category><![CDATA[ Tours ]]></category>]\n"
     ]
    }
   ],
   "source": [
    "#Grab built in titles, categories, and the link to the offical website\n",
    "title = []\n",
    "cat = []\n",
    "links = []\n",
    "for item in soup.find_all('item'):\n",
    "    title.append(item.title.text)\n",
    "    cat.append(item('category', text=True))\n",
    "    links.append(item.guid.text)\n",
    "\n",
    "print(\"Event Title:\", title[0],'\\n', \"Event Category: \", cat[0])"
   ]
  },
  {
   "cell_type": "code",
   "execution_count": 5,
   "metadata": {},
   "outputs": [],
   "source": [
    "#I'll be grabbing the description and running NLP on it to get keywords later.\n",
    "#So ignore this for now.\n",
    "descript = []\n",
    "for item in soup.find_all('item'):\n",
    "    descript.append(item.description.text.replace('\\t','').replace('\\n','').replace('\\r','').replace('<p>','').replace('</p>',''))"
   ]
  },
  {
   "cell_type": "code",
   "execution_count": 6,
   "metadata": {},
   "outputs": [],
   "source": [
    "#Create a dataframe\n",
    "data = pd.DataFrame(list(zip(title, cat, links)),\n",
    "              columns=['EventTitle','EventCategories','EventLink'])"
   ]
  },
  {
   "cell_type": "code",
   "execution_count": 7,
   "metadata": {},
   "outputs": [
    {
     "data": {
      "text/html": [
       "<div>\n",
       "<style scoped>\n",
       "    .dataframe tbody tr th:only-of-type {\n",
       "        vertical-align: middle;\n",
       "    }\n",
       "\n",
       "    .dataframe tbody tr th {\n",
       "        vertical-align: top;\n",
       "    }\n",
       "\n",
       "    .dataframe thead th {\n",
       "        text-align: right;\n",
       "    }\n",
       "</style>\n",
       "<table border=\"1\" class=\"dataframe\">\n",
       "  <thead>\n",
       "    <tr style=\"text-align: right;\">\n",
       "      <th></th>\n",
       "      <th>EventTitle</th>\n",
       "      <th>EventCategories</th>\n",
       "      <th>EventLink</th>\n",
       "    </tr>\n",
       "  </thead>\n",
       "  <tbody>\n",
       "    <tr>\n",
       "      <th>0</th>\n",
       "      <td>Ballpark Tours</td>\n",
       "      <td>[[ Family Friendly ], [ Outdoors ], [ Sports ]...</td>\n",
       "      <td>https://www.huntsville.org/event/ballpark-tour...</td>\n",
       "    </tr>\n",
       "    <tr>\n",
       "      <th>1</th>\n",
       "      <td>COLUMBUS SHIPS PINTA AND NINA TOURS</td>\n",
       "      <td>[[ Family Friendly ], [ Historical ], [ Travel...</td>\n",
       "      <td>https://www.huntsville.org/event/columbus-ship...</td>\n",
       "    </tr>\n",
       "    <tr>\n",
       "      <th>2</th>\n",
       "      <td>Encounters: Greely Myatt</td>\n",
       "      <td>[[ Art ], [ Historical ], [ Traveling Exhibits ]]</td>\n",
       "      <td>https://www.huntsville.org/event/encounters%3a...</td>\n",
       "    </tr>\n",
       "    <tr>\n",
       "      <th>3</th>\n",
       "      <td>GEOQUEST!</td>\n",
       "      <td>[[ Family Friendly ], [ Historical ], [ Outdoo...</td>\n",
       "      <td>https://www.huntsville.org/event/geoquest!/44507/</td>\n",
       "    </tr>\n",
       "    <tr>\n",
       "      <th>4</th>\n",
       "      <td>Jack Mitchell: Artists</td>\n",
       "      <td>[[ Art ], [ Traveling Exhibits ]]</td>\n",
       "      <td>https://www.huntsville.org/event/jack-mitchell...</td>\n",
       "    </tr>\n",
       "  </tbody>\n",
       "</table>\n",
       "</div>"
      ],
      "text/plain": [
       "                            EventTitle  \\\n",
       "0                       Ballpark Tours   \n",
       "1  COLUMBUS SHIPS PINTA AND NINA TOURS   \n",
       "2             Encounters: Greely Myatt   \n",
       "3                            GEOQUEST!   \n",
       "4               Jack Mitchell: Artists   \n",
       "\n",
       "                                     EventCategories  \\\n",
       "0  [[ Family Friendly ], [ Outdoors ], [ Sports ]...   \n",
       "1  [[ Family Friendly ], [ Historical ], [ Travel...   \n",
       "2  [[ Art ], [ Historical ], [ Traveling Exhibits ]]   \n",
       "3  [[ Family Friendly ], [ Historical ], [ Outdoo...   \n",
       "4                  [[ Art ], [ Traveling Exhibits ]]   \n",
       "\n",
       "                                           EventLink  \n",
       "0  https://www.huntsville.org/event/ballpark-tour...  \n",
       "1  https://www.huntsville.org/event/columbus-ship...  \n",
       "2  https://www.huntsville.org/event/encounters%3a...  \n",
       "3  https://www.huntsville.org/event/geoquest!/44507/  \n",
       "4  https://www.huntsville.org/event/jack-mitchell...  "
      ]
     },
     "execution_count": 7,
     "metadata": {},
     "output_type": "execute_result"
    }
   ],
   "source": [
    "data.head()"
   ]
  },
  {
   "cell_type": "code",
   "execution_count": 8,
   "metadata": {},
   "outputs": [],
   "source": [
    "data = data.astype(str)"
   ]
  },
  {
   "cell_type": "code",
   "execution_count": 9,
   "metadata": {},
   "outputs": [],
   "source": [
    "data['EventCategories'] = data['EventCategories'].replace(['\\[','\\]','\\<','\\>','\\!','category','CDATA','\\/','\\:'],'', regex=True)\n",
    "data['EventCategories'] = data['EventCategories'].replace(',','', regex=True)\n",
    "data.head()\n",
    "dataTest = data.copy()"
   ]
  },
  {
   "cell_type": "markdown",
   "metadata": {},
   "source": [
    "The couple of cells below prepare the words for cosine simularity processing. This turns phrases like Ballpark City Tours into ballparkcitytours so that when we run cosine simularity on it, it will processes it as one word instead of multiple, unrelated ones."
   ]
  },
  {
   "cell_type": "code",
   "execution_count": 10,
   "metadata": {},
   "outputs": [],
   "source": [
    "def clean_data(x):\n",
    "    if isinstance(x, list):\n",
    "        return [str.lower(i.replace(\" \", \"\")) for i in x]\n",
    "    else:\n",
    "        \n",
    "        if isinstance(x, str):\n",
    "            return str.lower(x.replace(\" \", \"\"))\n",
    "        else:\n",
    "            return ''"
   ]
  },
  {
   "cell_type": "code",
   "execution_count": 11,
   "metadata": {},
   "outputs": [],
   "source": [
    "features = ['EventTitle','EventCategories']\n",
    "for feature in features:\n",
    "    dataTest[feature] = dataTest[feature].apply(clean_data)"
   ]
  },
  {
   "cell_type": "code",
   "execution_count": 12,
   "metadata": {},
   "outputs": [
    {
     "data": {
      "text/html": [
       "<div>\n",
       "<style scoped>\n",
       "    .dataframe tbody tr th:only-of-type {\n",
       "        vertical-align: middle;\n",
       "    }\n",
       "\n",
       "    .dataframe tbody tr th {\n",
       "        vertical-align: top;\n",
       "    }\n",
       "\n",
       "    .dataframe thead th {\n",
       "        text-align: right;\n",
       "    }\n",
       "</style>\n",
       "<table border=\"1\" class=\"dataframe\">\n",
       "  <thead>\n",
       "    <tr style=\"text-align: right;\">\n",
       "      <th></th>\n",
       "      <th>EventTitle</th>\n",
       "      <th>EventCategories</th>\n",
       "      <th>EventLink</th>\n",
       "    </tr>\n",
       "  </thead>\n",
       "  <tbody>\n",
       "    <tr>\n",
       "      <th>0</th>\n",
       "      <td>ballparktours</td>\n",
       "      <td>familyfriendlyoutdoorssportstours</td>\n",
       "      <td>https://www.huntsville.org/event/ballpark-tour...</td>\n",
       "    </tr>\n",
       "    <tr>\n",
       "      <th>1</th>\n",
       "      <td>columbusshipspintaandninatours</td>\n",
       "      <td>familyfriendlyhistoricaltravelingexhibits</td>\n",
       "      <td>https://www.huntsville.org/event/columbus-ship...</td>\n",
       "    </tr>\n",
       "    <tr>\n",
       "      <th>2</th>\n",
       "      <td>encounters:greelymyatt</td>\n",
       "      <td>arthistoricaltravelingexhibits</td>\n",
       "      <td>https://www.huntsville.org/event/encounters%3a...</td>\n",
       "    </tr>\n",
       "  </tbody>\n",
       "</table>\n",
       "</div>"
      ],
      "text/plain": [
       "                       EventTitle                            EventCategories  \\\n",
       "0                   ballparktours          familyfriendlyoutdoorssportstours   \n",
       "1  columbusshipspintaandninatours  familyfriendlyhistoricaltravelingexhibits   \n",
       "2          encounters:greelymyatt             arthistoricaltravelingexhibits   \n",
       "\n",
       "                                           EventLink  \n",
       "0  https://www.huntsville.org/event/ballpark-tour...  \n",
       "1  https://www.huntsville.org/event/columbus-ship...  \n",
       "2  https://www.huntsville.org/event/encounters%3a...  "
      ]
     },
     "execution_count": 12,
     "metadata": {},
     "output_type": "execute_result"
    }
   ],
   "source": [
    "dataTest.head(3)"
   ]
  },
  {
   "cell_type": "markdown",
   "metadata": {},
   "source": [
    "These next couple of cells create one column with each row containing the title and categories."
   ]
  },
  {
   "cell_type": "code",
   "execution_count": 13,
   "metadata": {},
   "outputs": [],
   "source": [
    "def create_soup(x):\n",
    "    return ''.join(x['EventTitle']) + ' ' + ''.join(x['EventCategories'])"
   ]
  },
  {
   "cell_type": "code",
   "execution_count": 14,
   "metadata": {},
   "outputs": [
    {
     "data": {
      "text/html": [
       "<div>\n",
       "<style scoped>\n",
       "    .dataframe tbody tr th:only-of-type {\n",
       "        vertical-align: middle;\n",
       "    }\n",
       "\n",
       "    .dataframe tbody tr th {\n",
       "        vertical-align: top;\n",
       "    }\n",
       "\n",
       "    .dataframe thead th {\n",
       "        text-align: right;\n",
       "    }\n",
       "</style>\n",
       "<table border=\"1\" class=\"dataframe\">\n",
       "  <thead>\n",
       "    <tr style=\"text-align: right;\">\n",
       "      <th></th>\n",
       "      <th>soup</th>\n",
       "    </tr>\n",
       "  </thead>\n",
       "  <tbody>\n",
       "    <tr>\n",
       "      <th>0</th>\n",
       "      <td>Ballpark Tours  Family Friendly   Outdoors   S...</td>\n",
       "    </tr>\n",
       "    <tr>\n",
       "      <th>1</th>\n",
       "      <td>COLUMBUS SHIPS PINTA AND NINA TOURS  Family Fr...</td>\n",
       "    </tr>\n",
       "    <tr>\n",
       "      <th>2</th>\n",
       "      <td>Encounters: Greely Myatt  Art   Historical   T...</td>\n",
       "    </tr>\n",
       "    <tr>\n",
       "      <th>3</th>\n",
       "      <td>GEOQUEST!  Family Friendly   Historical   Outd...</td>\n",
       "    </tr>\n",
       "    <tr>\n",
       "      <th>4</th>\n",
       "      <td>Jack Mitchell: Artists  Art   Traveling Exhibits</td>\n",
       "    </tr>\n",
       "  </tbody>\n",
       "</table>\n",
       "</div>"
      ],
      "text/plain": [
       "                                                soup\n",
       "0  Ballpark Tours  Family Friendly   Outdoors   S...\n",
       "1  COLUMBUS SHIPS PINTA AND NINA TOURS  Family Fr...\n",
       "2  Encounters: Greely Myatt  Art   Historical   T...\n",
       "3  GEOQUEST!  Family Friendly   Historical   Outd...\n",
       "4  Jack Mitchell: Artists  Art   Traveling Exhibits "
      ]
     },
     "execution_count": 14,
     "metadata": {},
     "output_type": "execute_result"
    }
   ],
   "source": [
    "dataTest['soup'] = data.apply(create_soup, axis=1)\n",
    "dataTest[['soup']].head()"
   ]
  },
  {
   "cell_type": "markdown",
   "metadata": {},
   "source": [
    "These next few cells vectorize the text and then grab the cosine simularity between items, which should predict how similar they are."
   ]
  },
  {
   "cell_type": "code",
   "execution_count": 15,
   "metadata": {},
   "outputs": [],
   "source": [
    "from sklearn.feature_extraction.text import CountVectorizer\n",
    "\n",
    "count = CountVectorizer(stop_words='english')\n",
    "count_matrix = count.fit_transform(dataTest['soup'])"
   ]
  },
  {
   "cell_type": "code",
   "execution_count": 16,
   "metadata": {},
   "outputs": [],
   "source": [
    "from sklearn.metrics.pairwise import cosine_similarity\n",
    "cosine_sim2 = cosine_similarity(count_matrix, count_matrix)"
   ]
  },
  {
   "cell_type": "code",
   "execution_count": 17,
   "metadata": {},
   "outputs": [],
   "source": [
    "indices = pd.Series(data.index, index=data['EventTitle'])"
   ]
  },
  {
   "cell_type": "code",
   "execution_count": 18,
   "metadata": {},
   "outputs": [],
   "source": [
    "def get_recommendations(title, cosine_sim2=cosine_sim2):\n",
    "    # Get the index of the event that matches the title\n",
    "    idx = indices[title]\n",
    "\n",
    "    # Get the pairwsie similarity scores of all events with that event\n",
    "    sim_scores = list(enumerate(cosine_sim2[idx]))\n",
    "\n",
    "    # Sort the events based on the similarity scores\n",
    "    sim_scores = sorted(sim_scores, key=lambda x: x[1], reverse=True)\n",
    "\n",
    "    # Get the scores of the 10 most similar events\n",
    "    sim_scores = sim_scores[1:11]\n",
    "\n",
    "    # Get the event indices\n",
    "    movie_indices = [i[0] for i in sim_scores]\n",
    "\n",
    "    # Return the top 10 most similar events\n",
    "    return data[['EventTitle','EventCategories','EventLink']].iloc[movie_indices]"
   ]
  },
  {
   "cell_type": "markdown",
   "metadata": {},
   "source": [
    "Now, if you input one event, it will return the top 10 most similar events."
   ]
  },
  {
   "cell_type": "code",
   "execution_count": 19,
   "metadata": {},
   "outputs": [
    {
     "data": {
      "text/html": [
       "<div>\n",
       "<style scoped>\n",
       "    .dataframe tbody tr th:only-of-type {\n",
       "        vertical-align: middle;\n",
       "    }\n",
       "\n",
       "    .dataframe tbody tr th {\n",
       "        vertical-align: top;\n",
       "    }\n",
       "\n",
       "    .dataframe thead th {\n",
       "        text-align: right;\n",
       "    }\n",
       "</style>\n",
       "<table border=\"1\" class=\"dataframe\">\n",
       "  <thead>\n",
       "    <tr style=\"text-align: right;\">\n",
       "      <th></th>\n",
       "      <th>EventTitle</th>\n",
       "      <th>EventCategories</th>\n",
       "      <th>EventLink</th>\n",
       "    </tr>\n",
       "  </thead>\n",
       "  <tbody>\n",
       "    <tr>\n",
       "      <th>1</th>\n",
       "      <td>COLUMBUS SHIPS PINTA AND NINA TOURS</td>\n",
       "      <td>Family Friendly   Historical   Traveling Exhi...</td>\n",
       "      <td>https://www.huntsville.org/event/columbus-ship...</td>\n",
       "    </tr>\n",
       "    <tr>\n",
       "      <th>10</th>\n",
       "      <td>Rocket City Trash Pandas v. Birmingham Barons</td>\n",
       "      <td>Family Friendly   Outdoors   Sports</td>\n",
       "      <td>https://www.huntsville.org/event/rocket-city-t...</td>\n",
       "    </tr>\n",
       "    <tr>\n",
       "      <th>29</th>\n",
       "      <td>Downtown Walking Tours</td>\n",
       "      <td>Historical   Huntsville History Month   Tours</td>\n",
       "      <td>https://www.huntsville.org/event/downtown-walk...</td>\n",
       "    </tr>\n",
       "    <tr>\n",
       "      <th>8</th>\n",
       "      <td>Peak Butterfly Season</td>\n",
       "      <td>Family Friendly   Outdoors</td>\n",
       "      <td>https://www.huntsville.org/event/peak-butterfl...</td>\n",
       "    </tr>\n",
       "    <tr>\n",
       "      <th>20</th>\n",
       "      <td>Night Blooms</td>\n",
       "      <td>Art   Family Friendly   Outdoors   Seasonal -...</td>\n",
       "      <td>https://www.huntsville.org/event/night-blooms/...</td>\n",
       "    </tr>\n",
       "    <tr>\n",
       "      <th>19</th>\n",
       "      <td>Movies in the Park</td>\n",
       "      <td>Family Friendly   Free   Outdoors   Seasonal ...</td>\n",
       "      <td>https://www.huntsville.org/event/movies-in-the...</td>\n",
       "    </tr>\n",
       "    <tr>\n",
       "      <th>22</th>\n",
       "      <td>$5 after 5 at EarlyWorks</td>\n",
       "      <td>Family Friendly   Historical   S.T.E.M.</td>\n",
       "      <td>https://www.huntsville.org/event/%245-after-5-...</td>\n",
       "    </tr>\n",
       "    <tr>\n",
       "      <th>13</th>\n",
       "      <td>Tweetsville</td>\n",
       "      <td>Family Friendly   Outdoors   Seasonal - Sprin...</td>\n",
       "      <td>https://www.huntsville.org/event/tweetsville/4...</td>\n",
       "    </tr>\n",
       "    <tr>\n",
       "      <th>3</th>\n",
       "      <td>GEOQUEST!</td>\n",
       "      <td>Family Friendly   Historical   Outdoors   Sea...</td>\n",
       "      <td>https://www.huntsville.org/event/geoquest!/44507/</td>\n",
       "    </tr>\n",
       "    <tr>\n",
       "      <th>14</th>\n",
       "      <td>Uncaged: Birds, Nature &amp; You</td>\n",
       "      <td>Family Friendly   Outdoors   Seasonal - Fall ...</td>\n",
       "      <td>https://www.huntsville.org/event/uncaged%3a-bi...</td>\n",
       "    </tr>\n",
       "  </tbody>\n",
       "</table>\n",
       "</div>"
      ],
      "text/plain": [
       "                                       EventTitle  \\\n",
       "1             COLUMBUS SHIPS PINTA AND NINA TOURS   \n",
       "10  Rocket City Trash Pandas v. Birmingham Barons   \n",
       "29                         Downtown Walking Tours   \n",
       "8                           Peak Butterfly Season   \n",
       "20                                   Night Blooms   \n",
       "19                             Movies in the Park   \n",
       "22                       $5 after 5 at EarlyWorks   \n",
       "13                                    Tweetsville   \n",
       "3                                       GEOQUEST!   \n",
       "14                   Uncaged: Birds, Nature & You   \n",
       "\n",
       "                                      EventCategories  \\\n",
       "1    Family Friendly   Historical   Traveling Exhi...   \n",
       "10               Family Friendly   Outdoors   Sports    \n",
       "29     Historical   Huntsville History Month   Tours    \n",
       "8                         Family Friendly   Outdoors    \n",
       "20   Art   Family Friendly   Outdoors   Seasonal -...   \n",
       "19   Family Friendly   Free   Outdoors   Seasonal ...   \n",
       "22           Family Friendly   Historical   S.T.E.M.    \n",
       "13   Family Friendly   Outdoors   Seasonal - Sprin...   \n",
       "3    Family Friendly   Historical   Outdoors   Sea...   \n",
       "14   Family Friendly   Outdoors   Seasonal - Fall ...   \n",
       "\n",
       "                                            EventLink  \n",
       "1   https://www.huntsville.org/event/columbus-ship...  \n",
       "10  https://www.huntsville.org/event/rocket-city-t...  \n",
       "29  https://www.huntsville.org/event/downtown-walk...  \n",
       "8   https://www.huntsville.org/event/peak-butterfl...  \n",
       "20  https://www.huntsville.org/event/night-blooms/...  \n",
       "19  https://www.huntsville.org/event/movies-in-the...  \n",
       "22  https://www.huntsville.org/event/%245-after-5-...  \n",
       "13  https://www.huntsville.org/event/tweetsville/4...  \n",
       "3   https://www.huntsville.org/event/geoquest!/44507/  \n",
       "14  https://www.huntsville.org/event/uncaged%3a-bi...  "
      ]
     },
     "execution_count": 19,
     "metadata": {},
     "output_type": "execute_result"
    }
   ],
   "source": [
    "get_recommendations('Ballpark Tours', cosine_sim2)"
   ]
  },
  {
   "cell_type": "code",
   "execution_count": null,
   "metadata": {},
   "outputs": [],
   "source": []
  }
 ],
 "metadata": {
  "kernelspec": {
   "display_name": "Python 3",
   "language": "python",
   "name": "python3"
  },
  "language_info": {
   "codemirror_mode": {
    "name": "ipython",
    "version": 3
   },
   "file_extension": ".py",
   "mimetype": "text/x-python",
   "name": "python",
   "nbconvert_exporter": "python",
   "pygments_lexer": "ipython3",
   "version": "3.7.6"
  }
 },
 "nbformat": 4,
 "nbformat_minor": 4
}
